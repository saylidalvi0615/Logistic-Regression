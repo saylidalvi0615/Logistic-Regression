{
 "cells": [
  {
   "cell_type": "code",
   "execution_count": 2,
   "id": "50b4ad5e",
   "metadata": {},
   "outputs": [],
   "source": [
    "import numpy as np\n",
    "import pandas as pd"
   ]
  },
  {
   "cell_type": "code",
   "execution_count": 3,
   "id": "246cde2e",
   "metadata": {},
   "outputs": [],
   "source": [
    "cr=pd.read_csv(r'C:\\Users\\DELL\\CreditRisk.csv')\n"
   ]
  },
  {
   "cell_type": "code",
   "execution_count": 4,
   "id": "07a8bf92",
   "metadata": {},
   "outputs": [
    {
     "data": {
      "text/html": [
       "<div>\n",
       "<style scoped>\n",
       "    .dataframe tbody tr th:only-of-type {\n",
       "        vertical-align: middle;\n",
       "    }\n",
       "\n",
       "    .dataframe tbody tr th {\n",
       "        vertical-align: top;\n",
       "    }\n",
       "\n",
       "    .dataframe thead th {\n",
       "        text-align: right;\n",
       "    }\n",
       "</style>\n",
       "<table border=\"1\" class=\"dataframe\">\n",
       "  <thead>\n",
       "    <tr style=\"text-align: right;\">\n",
       "      <th></th>\n",
       "      <th>Loan_ID</th>\n",
       "      <th>Gender</th>\n",
       "      <th>Married</th>\n",
       "      <th>Dependents</th>\n",
       "      <th>Education</th>\n",
       "      <th>Self_Employed</th>\n",
       "      <th>ApplicantIncome</th>\n",
       "      <th>CoapplicantIncome</th>\n",
       "      <th>LoanAmount</th>\n",
       "      <th>Loan_Amount_Term</th>\n",
       "      <th>Credit_History</th>\n",
       "      <th>Property_Area</th>\n",
       "      <th>Loan_Status</th>\n",
       "    </tr>\n",
       "  </thead>\n",
       "  <tbody>\n",
       "    <tr>\n",
       "      <th>0</th>\n",
       "      <td>LP001002</td>\n",
       "      <td>Male</td>\n",
       "      <td>No</td>\n",
       "      <td>0.0</td>\n",
       "      <td>Graduate</td>\n",
       "      <td>No</td>\n",
       "      <td>5849</td>\n",
       "      <td>0.0</td>\n",
       "      <td>NaN</td>\n",
       "      <td>360.0</td>\n",
       "      <td>1.0</td>\n",
       "      <td>Urban</td>\n",
       "      <td>Y</td>\n",
       "    </tr>\n",
       "    <tr>\n",
       "      <th>1</th>\n",
       "      <td>LP001003</td>\n",
       "      <td>Male</td>\n",
       "      <td>Yes</td>\n",
       "      <td>1.0</td>\n",
       "      <td>Graduate</td>\n",
       "      <td>No</td>\n",
       "      <td>4583</td>\n",
       "      <td>1508.0</td>\n",
       "      <td>128.0</td>\n",
       "      <td>360.0</td>\n",
       "      <td>1.0</td>\n",
       "      <td>Rural</td>\n",
       "      <td>N</td>\n",
       "    </tr>\n",
       "    <tr>\n",
       "      <th>2</th>\n",
       "      <td>LP001005</td>\n",
       "      <td>Male</td>\n",
       "      <td>Yes</td>\n",
       "      <td>0.0</td>\n",
       "      <td>Graduate</td>\n",
       "      <td>Yes</td>\n",
       "      <td>3000</td>\n",
       "      <td>0.0</td>\n",
       "      <td>66.0</td>\n",
       "      <td>360.0</td>\n",
       "      <td>1.0</td>\n",
       "      <td>Urban</td>\n",
       "      <td>Y</td>\n",
       "    </tr>\n",
       "    <tr>\n",
       "      <th>3</th>\n",
       "      <td>LP001006</td>\n",
       "      <td>Male</td>\n",
       "      <td>Yes</td>\n",
       "      <td>0.0</td>\n",
       "      <td>Not Graduate</td>\n",
       "      <td>No</td>\n",
       "      <td>2583</td>\n",
       "      <td>2358.0</td>\n",
       "      <td>120.0</td>\n",
       "      <td>360.0</td>\n",
       "      <td>1.0</td>\n",
       "      <td>Urban</td>\n",
       "      <td>Y</td>\n",
       "    </tr>\n",
       "    <tr>\n",
       "      <th>4</th>\n",
       "      <td>LP001008</td>\n",
       "      <td>Male</td>\n",
       "      <td>No</td>\n",
       "      <td>0.0</td>\n",
       "      <td>Graduate</td>\n",
       "      <td>No</td>\n",
       "      <td>6000</td>\n",
       "      <td>0.0</td>\n",
       "      <td>141.0</td>\n",
       "      <td>360.0</td>\n",
       "      <td>1.0</td>\n",
       "      <td>Urban</td>\n",
       "      <td>Y</td>\n",
       "    </tr>\n",
       "    <tr>\n",
       "      <th>...</th>\n",
       "      <td>...</td>\n",
       "      <td>...</td>\n",
       "      <td>...</td>\n",
       "      <td>...</td>\n",
       "      <td>...</td>\n",
       "      <td>...</td>\n",
       "      <td>...</td>\n",
       "      <td>...</td>\n",
       "      <td>...</td>\n",
       "      <td>...</td>\n",
       "      <td>...</td>\n",
       "      <td>...</td>\n",
       "      <td>...</td>\n",
       "    </tr>\n",
       "    <tr>\n",
       "      <th>976</th>\n",
       "      <td>LP002971</td>\n",
       "      <td>Male</td>\n",
       "      <td>Yes</td>\n",
       "      <td>4.0</td>\n",
       "      <td>Not Graduate</td>\n",
       "      <td>Yes</td>\n",
       "      <td>4009</td>\n",
       "      <td>1777.0</td>\n",
       "      <td>113.0</td>\n",
       "      <td>360.0</td>\n",
       "      <td>1.0</td>\n",
       "      <td>Urban</td>\n",
       "      <td>Y</td>\n",
       "    </tr>\n",
       "    <tr>\n",
       "      <th>977</th>\n",
       "      <td>LP002975</td>\n",
       "      <td>Male</td>\n",
       "      <td>Yes</td>\n",
       "      <td>0.0</td>\n",
       "      <td>Graduate</td>\n",
       "      <td>No</td>\n",
       "      <td>4158</td>\n",
       "      <td>709.0</td>\n",
       "      <td>115.0</td>\n",
       "      <td>360.0</td>\n",
       "      <td>1.0</td>\n",
       "      <td>Urban</td>\n",
       "      <td>Y</td>\n",
       "    </tr>\n",
       "    <tr>\n",
       "      <th>978</th>\n",
       "      <td>LP002980</td>\n",
       "      <td>Male</td>\n",
       "      <td>No</td>\n",
       "      <td>0.0</td>\n",
       "      <td>Graduate</td>\n",
       "      <td>No</td>\n",
       "      <td>3250</td>\n",
       "      <td>1993.0</td>\n",
       "      <td>126.0</td>\n",
       "      <td>360.0</td>\n",
       "      <td>NaN</td>\n",
       "      <td>Semiurban</td>\n",
       "      <td>Y</td>\n",
       "    </tr>\n",
       "    <tr>\n",
       "      <th>979</th>\n",
       "      <td>LP002986</td>\n",
       "      <td>Male</td>\n",
       "      <td>Yes</td>\n",
       "      <td>0.0</td>\n",
       "      <td>Graduate</td>\n",
       "      <td>No</td>\n",
       "      <td>5000</td>\n",
       "      <td>2393.0</td>\n",
       "      <td>158.0</td>\n",
       "      <td>360.0</td>\n",
       "      <td>1.0</td>\n",
       "      <td>Rural</td>\n",
       "      <td>N</td>\n",
       "    </tr>\n",
       "    <tr>\n",
       "      <th>980</th>\n",
       "      <td>LP002989</td>\n",
       "      <td>Male</td>\n",
       "      <td>No</td>\n",
       "      <td>0.0</td>\n",
       "      <td>Graduate</td>\n",
       "      <td>Yes</td>\n",
       "      <td>9200</td>\n",
       "      <td>0.0</td>\n",
       "      <td>98.0</td>\n",
       "      <td>180.0</td>\n",
       "      <td>1.0</td>\n",
       "      <td>Rural</td>\n",
       "      <td>Y</td>\n",
       "    </tr>\n",
       "  </tbody>\n",
       "</table>\n",
       "<p>981 rows × 13 columns</p>\n",
       "</div>"
      ],
      "text/plain": [
       "      Loan_ID Gender Married  Dependents     Education Self_Employed  \\\n",
       "0    LP001002   Male      No         0.0      Graduate            No   \n",
       "1    LP001003   Male     Yes         1.0      Graduate            No   \n",
       "2    LP001005   Male     Yes         0.0      Graduate           Yes   \n",
       "3    LP001006   Male     Yes         0.0  Not Graduate            No   \n",
       "4    LP001008   Male      No         0.0      Graduate            No   \n",
       "..        ...    ...     ...         ...           ...           ...   \n",
       "976  LP002971   Male     Yes         4.0  Not Graduate           Yes   \n",
       "977  LP002975   Male     Yes         0.0      Graduate            No   \n",
       "978  LP002980   Male      No         0.0      Graduate            No   \n",
       "979  LP002986   Male     Yes         0.0      Graduate            No   \n",
       "980  LP002989   Male      No         0.0      Graduate           Yes   \n",
       "\n",
       "     ApplicantIncome  CoapplicantIncome  LoanAmount  Loan_Amount_Term  \\\n",
       "0               5849                0.0         NaN             360.0   \n",
       "1               4583             1508.0       128.0             360.0   \n",
       "2               3000                0.0        66.0             360.0   \n",
       "3               2583             2358.0       120.0             360.0   \n",
       "4               6000                0.0       141.0             360.0   \n",
       "..               ...                ...         ...               ...   \n",
       "976             4009             1777.0       113.0             360.0   \n",
       "977             4158              709.0       115.0             360.0   \n",
       "978             3250             1993.0       126.0             360.0   \n",
       "979             5000             2393.0       158.0             360.0   \n",
       "980             9200                0.0        98.0             180.0   \n",
       "\n",
       "     Credit_History Property_Area Loan_Status  \n",
       "0               1.0         Urban           Y  \n",
       "1               1.0         Rural           N  \n",
       "2               1.0         Urban           Y  \n",
       "3               1.0         Urban           Y  \n",
       "4               1.0         Urban           Y  \n",
       "..              ...           ...         ...  \n",
       "976             1.0         Urban           Y  \n",
       "977             1.0         Urban           Y  \n",
       "978             NaN     Semiurban           Y  \n",
       "979             1.0         Rural           N  \n",
       "980             1.0         Rural           Y  \n",
       "\n",
       "[981 rows x 13 columns]"
      ]
     },
     "execution_count": 4,
     "metadata": {},
     "output_type": "execute_result"
    }
   ],
   "source": [
    "cr"
   ]
  },
  {
   "cell_type": "code",
   "execution_count": 5,
   "id": "3845283c",
   "metadata": {},
   "outputs": [
    {
     "data": {
      "text/plain": [
       "(981, 13)"
      ]
     },
     "execution_count": 5,
     "metadata": {},
     "output_type": "execute_result"
    }
   ],
   "source": [
    "cr.shape"
   ]
  },
  {
   "cell_type": "code",
   "execution_count": 6,
   "id": "fd870ac5",
   "metadata": {},
   "outputs": [
    {
     "name": "stdout",
     "output_type": "stream",
     "text": [
      "<class 'pandas.core.frame.DataFrame'>\n",
      "RangeIndex: 981 entries, 0 to 980\n",
      "Data columns (total 13 columns):\n",
      " #   Column             Non-Null Count  Dtype  \n",
      "---  ------             --------------  -----  \n",
      " 0   Loan_ID            981 non-null    object \n",
      " 1   Gender             957 non-null    object \n",
      " 2   Married            978 non-null    object \n",
      " 3   Dependents         956 non-null    float64\n",
      " 4   Education          981 non-null    object \n",
      " 5   Self_Employed      926 non-null    object \n",
      " 6   ApplicantIncome    981 non-null    int64  \n",
      " 7   CoapplicantIncome  981 non-null    float64\n",
      " 8   LoanAmount         954 non-null    float64\n",
      " 9   Loan_Amount_Term   961 non-null    float64\n",
      " 10  Credit_History     902 non-null    float64\n",
      " 11  Property_Area      981 non-null    object \n",
      " 12  Loan_Status        981 non-null    object \n",
      "dtypes: float64(5), int64(1), object(7)\n",
      "memory usage: 99.8+ KB\n"
     ]
    }
   ],
   "source": [
    "cr.info()"
   ]
  },
  {
   "cell_type": "code",
   "execution_count": 7,
   "id": "396ed2a3",
   "metadata": {},
   "outputs": [
    {
     "data": {
      "text/plain": [
       "Gender              24\n",
       "Married              3\n",
       "Dependents          25\n",
       "Self_Employed       55\n",
       "LoanAmount          27\n",
       "Loan_Amount_Term    20\n",
       "Credit_History      79\n",
       "dtype: int64"
      ]
     },
     "execution_count": 7,
     "metadata": {},
     "output_type": "execute_result"
    }
   ],
   "source": [
    "cr.isnull().sum()[cr.isnull().sum()>0]"
   ]
  },
  {
   "cell_type": "code",
   "execution_count": 8,
   "id": "b9a3e7db",
   "metadata": {},
   "outputs": [
    {
     "data": {
      "text/plain": [
       "Male      775\n",
       "Female    182\n",
       "Name: Gender, dtype: int64"
      ]
     },
     "execution_count": 8,
     "metadata": {},
     "output_type": "execute_result"
    }
   ],
   "source": [
    "cr.Gender.value_counts()"
   ]
  },
  {
   "cell_type": "code",
   "execution_count": 9,
   "id": "33c72093",
   "metadata": {},
   "outputs": [],
   "source": [
    "cr.Gender = cr.Gender.fillna('Male')"
   ]
  },
  {
   "cell_type": "code",
   "execution_count": 10,
   "id": "3b39bf29",
   "metadata": {},
   "outputs": [
    {
     "data": {
      "text/plain": [
       "Yes    631\n",
       "No     347\n",
       "Name: Married, dtype: int64"
      ]
     },
     "execution_count": 10,
     "metadata": {},
     "output_type": "execute_result"
    }
   ],
   "source": [
    "cr.Married.value_counts()"
   ]
  },
  {
   "cell_type": "code",
   "execution_count": 11,
   "id": "4c2facdd",
   "metadata": {},
   "outputs": [],
   "source": [
    "cr.Married = cr.Married.fillna('Yes')"
   ]
  },
  {
   "cell_type": "code",
   "execution_count": 12,
   "id": "266ae3df",
   "metadata": {},
   "outputs": [
    {
     "data": {
      "text/plain": [
       "0.0    545\n",
       "1.0    160\n",
       "2.0    160\n",
       "4.0     90\n",
       "3.0      1\n",
       "Name: Dependents, dtype: int64"
      ]
     },
     "execution_count": 12,
     "metadata": {},
     "output_type": "execute_result"
    }
   ],
   "source": [
    "cr.Dependents.value_counts()"
   ]
  },
  {
   "cell_type": "code",
   "execution_count": 13,
   "id": "8c829cfa",
   "metadata": {},
   "outputs": [],
   "source": [
    "cr.Dependents=cr.Dependents.fillna(0)"
   ]
  },
  {
   "cell_type": "code",
   "execution_count": 14,
   "id": "f1e1aa2f",
   "metadata": {},
   "outputs": [
    {
     "data": {
      "text/plain": [
       "No     807\n",
       "Yes    119\n",
       "Name: Self_Employed, dtype: int64"
      ]
     },
     "execution_count": 14,
     "metadata": {},
     "output_type": "execute_result"
    }
   ],
   "source": [
    "cr.Self_Employed.value_counts()"
   ]
  },
  {
   "cell_type": "code",
   "execution_count": 15,
   "id": "f1ffc462",
   "metadata": {},
   "outputs": [],
   "source": [
    "cr.Self_Employed = cr.Self_Employed.fillna('Yes')"
   ]
  },
  {
   "cell_type": "code",
   "execution_count": 16,
   "id": "75c86453",
   "metadata": {},
   "outputs": [
    {
     "data": {
      "text/plain": [
       "120.0    29\n",
       "110.0    27\n",
       "100.0    24\n",
       "187.0    21\n",
       "150.0    19\n",
       "         ..\n",
       "218.0     1\n",
       "62.0      1\n",
       "53.0      1\n",
       "242.0     1\n",
       "197.0     1\n",
       "Name: LoanAmount, Length: 232, dtype: int64"
      ]
     },
     "execution_count": 16,
     "metadata": {},
     "output_type": "execute_result"
    }
   ],
   "source": [
    "cr.LoanAmount.value_counts()"
   ]
  },
  {
   "cell_type": "code",
   "execution_count": 17,
   "id": "152c9192",
   "metadata": {},
   "outputs": [],
   "source": [
    "cr.LoanAmount=cr.LoanAmount.fillna(cr.LoanAmount.mean())"
   ]
  },
  {
   "cell_type": "code",
   "execution_count": 18,
   "id": "2bf0c0d0",
   "metadata": {},
   "outputs": [],
   "source": [
    "cr.Loan_Amount_Term.value_counts()\n",
    "cr.Loan_Amount_Term=cr.Loan_Amount_Term.fillna(cr.Loan_Amount_Term.mean())"
   ]
  },
  {
   "cell_type": "code",
   "execution_count": 19,
   "id": "644f08e6",
   "metadata": {},
   "outputs": [
    {
     "data": {
      "text/plain": [
       "1.0    754\n",
       "0.0    148\n",
       "Name: Credit_History, dtype: int64"
      ]
     },
     "execution_count": 19,
     "metadata": {},
     "output_type": "execute_result"
    }
   ],
   "source": [
    "cr.Credit_History.value_counts()"
   ]
  },
  {
   "cell_type": "code",
   "execution_count": 20,
   "id": "955ce67a",
   "metadata": {},
   "outputs": [],
   "source": [
    "cr.Credit_History=cr.Credit_History.fillna(0)"
   ]
  },
  {
   "cell_type": "code",
   "execution_count": 21,
   "id": "1088d81a",
   "metadata": {},
   "outputs": [
    {
     "data": {
      "text/plain": [
       "Loan_ID              0\n",
       "Gender               0\n",
       "Married              0\n",
       "Dependents           0\n",
       "Education            0\n",
       "Self_Employed        0\n",
       "ApplicantIncome      0\n",
       "CoapplicantIncome    0\n",
       "LoanAmount           0\n",
       "Loan_Amount_Term     0\n",
       "Credit_History       0\n",
       "Property_Area        0\n",
       "Loan_Status          0\n",
       "dtype: int64"
      ]
     },
     "execution_count": 21,
     "metadata": {},
     "output_type": "execute_result"
    }
   ],
   "source": [
    "cr.isnull().sum()"
   ]
  },
  {
   "cell_type": "code",
   "execution_count": 22,
   "id": "bbedc34d",
   "metadata": {},
   "outputs": [],
   "source": [
    "from sklearn.preprocessing import LabelEncoder\n",
    "le = LabelEncoder()"
   ]
  },
  {
   "cell_type": "code",
   "execution_count": 23,
   "id": "336a987d",
   "metadata": {},
   "outputs": [],
   "source": [
    "cr[cr.select_dtypes(include=['object']).columns] = cr[cr.select_dtypes(include=['object']).columns].apply(le.fit_transform)"
   ]
  },
  {
   "cell_type": "code",
   "execution_count": 24,
   "id": "05ff94b3",
   "metadata": {},
   "outputs": [
    {
     "name": "stdout",
     "output_type": "stream",
     "text": [
      "<class 'pandas.core.frame.DataFrame'>\n",
      "RangeIndex: 981 entries, 0 to 980\n",
      "Data columns (total 13 columns):\n",
      " #   Column             Non-Null Count  Dtype  \n",
      "---  ------             --------------  -----  \n",
      " 0   Loan_ID            981 non-null    int32  \n",
      " 1   Gender             981 non-null    int32  \n",
      " 2   Married            981 non-null    int32  \n",
      " 3   Dependents         981 non-null    float64\n",
      " 4   Education          981 non-null    int32  \n",
      " 5   Self_Employed      981 non-null    int32  \n",
      " 6   ApplicantIncome    981 non-null    int64  \n",
      " 7   CoapplicantIncome  981 non-null    float64\n",
      " 8   LoanAmount         981 non-null    float64\n",
      " 9   Loan_Amount_Term   981 non-null    float64\n",
      " 10  Credit_History     981 non-null    float64\n",
      " 11  Property_Area      981 non-null    int32  \n",
      " 12  Loan_Status        981 non-null    int32  \n",
      "dtypes: float64(5), int32(7), int64(1)\n",
      "memory usage: 72.9 KB\n"
     ]
    }
   ],
   "source": [
    "cr.info()"
   ]
  },
  {
   "cell_type": "code",
   "execution_count": 25,
   "id": "08a655b2",
   "metadata": {},
   "outputs": [],
   "source": [
    "from sklearn.model_selection import train_test_split"
   ]
  },
  {
   "cell_type": "code",
   "execution_count": 26,
   "id": "c77a9aee",
   "metadata": {},
   "outputs": [],
   "source": [
    "cr_train, cr_test = train_test_split(cr,test_size=.2)"
   ]
  },
  {
   "cell_type": "code",
   "execution_count": 27,
   "id": "f7b29ee6",
   "metadata": {},
   "outputs": [],
   "source": [
    "cr_train_x=cr_train.iloc[: ,0:-1]"
   ]
  },
  {
   "cell_type": "code",
   "execution_count": 28,
   "id": "ca6712e4",
   "metadata": {},
   "outputs": [],
   "source": [
    "cr_train_y=cr_train.iloc[: , -1]"
   ]
  },
  {
   "cell_type": "code",
   "execution_count": 29,
   "id": "8e5767e0",
   "metadata": {},
   "outputs": [
    {
     "data": {
      "text/plain": [
       "435    1\n",
       "108    0\n",
       "415    1\n",
       "929    1\n",
       "682    1\n",
       "      ..\n",
       "144    1\n",
       "59     1\n",
       "696    0\n",
       "606    1\n",
       "355    1\n",
       "Name: Loan_Status, Length: 784, dtype: int32"
      ]
     },
     "execution_count": 29,
     "metadata": {},
     "output_type": "execute_result"
    }
   ],
   "source": [
    "cr_train_y"
   ]
  },
  {
   "cell_type": "code",
   "execution_count": 30,
   "id": "8417d278",
   "metadata": {},
   "outputs": [],
   "source": [
    "cr_test_x=cr_test.iloc[: ,0:-1]\n",
    "cr_test_y=cr_test.iloc[: , -1]"
   ]
  },
  {
   "cell_type": "code",
   "execution_count": 31,
   "id": "5f41dcc7",
   "metadata": {},
   "outputs": [
    {
     "data": {
      "text/html": [
       "<div>\n",
       "<style scoped>\n",
       "    .dataframe tbody tr th:only-of-type {\n",
       "        vertical-align: middle;\n",
       "    }\n",
       "\n",
       "    .dataframe tbody tr th {\n",
       "        vertical-align: top;\n",
       "    }\n",
       "\n",
       "    .dataframe thead th {\n",
       "        text-align: right;\n",
       "    }\n",
       "</style>\n",
       "<table border=\"1\" class=\"dataframe\">\n",
       "  <thead>\n",
       "    <tr style=\"text-align: right;\">\n",
       "      <th></th>\n",
       "      <th>Loan_ID</th>\n",
       "      <th>Gender</th>\n",
       "      <th>Married</th>\n",
       "      <th>Dependents</th>\n",
       "      <th>Education</th>\n",
       "      <th>Self_Employed</th>\n",
       "      <th>ApplicantIncome</th>\n",
       "      <th>CoapplicantIncome</th>\n",
       "      <th>LoanAmount</th>\n",
       "      <th>Loan_Amount_Term</th>\n",
       "      <th>Credit_History</th>\n",
       "      <th>Property_Area</th>\n",
       "    </tr>\n",
       "  </thead>\n",
       "  <tbody>\n",
       "    <tr>\n",
       "      <th>833</th>\n",
       "      <td>593</td>\n",
       "      <td>1</td>\n",
       "      <td>1</td>\n",
       "      <td>1.0</td>\n",
       "      <td>0</td>\n",
       "      <td>0</td>\n",
       "      <td>3747</td>\n",
       "      <td>2139.0</td>\n",
       "      <td>125.0</td>\n",
       "      <td>360.0</td>\n",
       "      <td>1.0</td>\n",
       "      <td>2</td>\n",
       "    </tr>\n",
       "    <tr>\n",
       "      <th>730</th>\n",
       "      <td>292</td>\n",
       "      <td>0</td>\n",
       "      <td>0</td>\n",
       "      <td>0.0</td>\n",
       "      <td>1</td>\n",
       "      <td>0</td>\n",
       "      <td>0</td>\n",
       "      <td>1760.0</td>\n",
       "      <td>180.0</td>\n",
       "      <td>360.0</td>\n",
       "      <td>1.0</td>\n",
       "      <td>1</td>\n",
       "    </tr>\n",
       "    <tr>\n",
       "      <th>904</th>\n",
       "      <td>788</td>\n",
       "      <td>1</td>\n",
       "      <td>1</td>\n",
       "      <td>0.0</td>\n",
       "      <td>0</td>\n",
       "      <td>0</td>\n",
       "      <td>3667</td>\n",
       "      <td>2000.0</td>\n",
       "      <td>170.0</td>\n",
       "      <td>360.0</td>\n",
       "      <td>1.0</td>\n",
       "      <td>1</td>\n",
       "    </tr>\n",
       "    <tr>\n",
       "      <th>597</th>\n",
       "      <td>954</td>\n",
       "      <td>1</td>\n",
       "      <td>0</td>\n",
       "      <td>0.0</td>\n",
       "      <td>0</td>\n",
       "      <td>0</td>\n",
       "      <td>2987</td>\n",
       "      <td>0.0</td>\n",
       "      <td>88.0</td>\n",
       "      <td>360.0</td>\n",
       "      <td>0.0</td>\n",
       "      <td>1</td>\n",
       "    </tr>\n",
       "    <tr>\n",
       "      <th>676</th>\n",
       "      <td>161</td>\n",
       "      <td>0</td>\n",
       "      <td>0</td>\n",
       "      <td>2.0</td>\n",
       "      <td>0</td>\n",
       "      <td>0</td>\n",
       "      <td>4968</td>\n",
       "      <td>0.0</td>\n",
       "      <td>189.0</td>\n",
       "      <td>360.0</td>\n",
       "      <td>1.0</td>\n",
       "      <td>1</td>\n",
       "    </tr>\n",
       "    <tr>\n",
       "      <th>...</th>\n",
       "      <td>...</td>\n",
       "      <td>...</td>\n",
       "      <td>...</td>\n",
       "      <td>...</td>\n",
       "      <td>...</td>\n",
       "      <td>...</td>\n",
       "      <td>...</td>\n",
       "      <td>...</td>\n",
       "      <td>...</td>\n",
       "      <td>...</td>\n",
       "      <td>...</td>\n",
       "      <td>...</td>\n",
       "    </tr>\n",
       "    <tr>\n",
       "      <th>935</th>\n",
       "      <td>874</td>\n",
       "      <td>0</td>\n",
       "      <td>1</td>\n",
       "      <td>0.0</td>\n",
       "      <td>1</td>\n",
       "      <td>0</td>\n",
       "      <td>1647</td>\n",
       "      <td>1762.0</td>\n",
       "      <td>181.0</td>\n",
       "      <td>360.0</td>\n",
       "      <td>1.0</td>\n",
       "      <td>2</td>\n",
       "    </tr>\n",
       "    <tr>\n",
       "      <th>411</th>\n",
       "      <td>647</td>\n",
       "      <td>1</td>\n",
       "      <td>1</td>\n",
       "      <td>0.0</td>\n",
       "      <td>0</td>\n",
       "      <td>1</td>\n",
       "      <td>6256</td>\n",
       "      <td>0.0</td>\n",
       "      <td>160.0</td>\n",
       "      <td>360.0</td>\n",
       "      <td>0.0</td>\n",
       "      <td>2</td>\n",
       "    </tr>\n",
       "    <tr>\n",
       "      <th>226</th>\n",
       "      <td>363</td>\n",
       "      <td>1</td>\n",
       "      <td>1</td>\n",
       "      <td>0.0</td>\n",
       "      <td>1</td>\n",
       "      <td>1</td>\n",
       "      <td>4735</td>\n",
       "      <td>0.0</td>\n",
       "      <td>138.0</td>\n",
       "      <td>360.0</td>\n",
       "      <td>1.0</td>\n",
       "      <td>2</td>\n",
       "    </tr>\n",
       "    <tr>\n",
       "      <th>638</th>\n",
       "      <td>73</td>\n",
       "      <td>1</td>\n",
       "      <td>1</td>\n",
       "      <td>0.0</td>\n",
       "      <td>0</td>\n",
       "      <td>0</td>\n",
       "      <td>5400</td>\n",
       "      <td>4380.0</td>\n",
       "      <td>290.0</td>\n",
       "      <td>360.0</td>\n",
       "      <td>1.0</td>\n",
       "      <td>2</td>\n",
       "    </tr>\n",
       "    <tr>\n",
       "      <th>397</th>\n",
       "      <td>626</td>\n",
       "      <td>1</td>\n",
       "      <td>1</td>\n",
       "      <td>0.0</td>\n",
       "      <td>0</td>\n",
       "      <td>0</td>\n",
       "      <td>3033</td>\n",
       "      <td>1459.0</td>\n",
       "      <td>95.0</td>\n",
       "      <td>360.0</td>\n",
       "      <td>1.0</td>\n",
       "      <td>2</td>\n",
       "    </tr>\n",
       "  </tbody>\n",
       "</table>\n",
       "<p>197 rows × 12 columns</p>\n",
       "</div>"
      ],
      "text/plain": [
       "     Loan_ID  Gender  Married  Dependents  Education  Self_Employed  \\\n",
       "833      593       1        1         1.0          0              0   \n",
       "730      292       0        0         0.0          1              0   \n",
       "904      788       1        1         0.0          0              0   \n",
       "597      954       1        0         0.0          0              0   \n",
       "676      161       0        0         2.0          0              0   \n",
       "..       ...     ...      ...         ...        ...            ...   \n",
       "935      874       0        1         0.0          1              0   \n",
       "411      647       1        1         0.0          0              1   \n",
       "226      363       1        1         0.0          1              1   \n",
       "638       73       1        1         0.0          0              0   \n",
       "397      626       1        1         0.0          0              0   \n",
       "\n",
       "     ApplicantIncome  CoapplicantIncome  LoanAmount  Loan_Amount_Term  \\\n",
       "833             3747             2139.0       125.0             360.0   \n",
       "730                0             1760.0       180.0             360.0   \n",
       "904             3667             2000.0       170.0             360.0   \n",
       "597             2987                0.0        88.0             360.0   \n",
       "676             4968                0.0       189.0             360.0   \n",
       "..               ...                ...         ...               ...   \n",
       "935             1647             1762.0       181.0             360.0   \n",
       "411             6256                0.0       160.0             360.0   \n",
       "226             4735                0.0       138.0             360.0   \n",
       "638             5400             4380.0       290.0             360.0   \n",
       "397             3033             1459.0        95.0             360.0   \n",
       "\n",
       "     Credit_History  Property_Area  \n",
       "833             1.0              2  \n",
       "730             1.0              1  \n",
       "904             1.0              1  \n",
       "597             0.0              1  \n",
       "676             1.0              1  \n",
       "..              ...            ...  \n",
       "935             1.0              2  \n",
       "411             0.0              2  \n",
       "226             1.0              2  \n",
       "638             1.0              2  \n",
       "397             1.0              2  \n",
       "\n",
       "[197 rows x 12 columns]"
      ]
     },
     "execution_count": 31,
     "metadata": {},
     "output_type": "execute_result"
    }
   ],
   "source": [
    "cr_test_x"
   ]
  },
  {
   "cell_type": "code",
   "execution_count": 32,
   "id": "ec825a2b",
   "metadata": {},
   "outputs": [],
   "source": [
    "from sklearn.linear_model import LogisticRegression"
   ]
  },
  {
   "cell_type": "code",
   "execution_count": 33,
   "id": "a2e2ced0",
   "metadata": {},
   "outputs": [],
   "source": [
    "logi_cr=LogisticRegression()"
   ]
  },
  {
   "cell_type": "code",
   "execution_count": 34,
   "id": "ddca2758",
   "metadata": {},
   "outputs": [
    {
     "name": "stderr",
     "output_type": "stream",
     "text": [
      "C:\\Users\\DELL\\anaconda3\\Lib\\site-packages\\sklearn\\linear_model\\_logistic.py:458: ConvergenceWarning: lbfgs failed to converge (status=1):\n",
      "STOP: TOTAL NO. of ITERATIONS REACHED LIMIT.\n",
      "\n",
      "Increase the number of iterations (max_iter) or scale the data as shown in:\n",
      "    https://scikit-learn.org/stable/modules/preprocessing.html\n",
      "Please also refer to the documentation for alternative solver options:\n",
      "    https://scikit-learn.org/stable/modules/linear_model.html#logistic-regression\n",
      "  n_iter_i = _check_optimize_result(\n"
     ]
    },
    {
     "data": {
      "text/html": [
       "<style>#sk-container-id-1 {color: black;background-color: white;}#sk-container-id-1 pre{padding: 0;}#sk-container-id-1 div.sk-toggleable {background-color: white;}#sk-container-id-1 label.sk-toggleable__label {cursor: pointer;display: block;width: 100%;margin-bottom: 0;padding: 0.3em;box-sizing: border-box;text-align: center;}#sk-container-id-1 label.sk-toggleable__label-arrow:before {content: \"▸\";float: left;margin-right: 0.25em;color: #696969;}#sk-container-id-1 label.sk-toggleable__label-arrow:hover:before {color: black;}#sk-container-id-1 div.sk-estimator:hover label.sk-toggleable__label-arrow:before {color: black;}#sk-container-id-1 div.sk-toggleable__content {max-height: 0;max-width: 0;overflow: hidden;text-align: left;background-color: #f0f8ff;}#sk-container-id-1 div.sk-toggleable__content pre {margin: 0.2em;color: black;border-radius: 0.25em;background-color: #f0f8ff;}#sk-container-id-1 input.sk-toggleable__control:checked~div.sk-toggleable__content {max-height: 200px;max-width: 100%;overflow: auto;}#sk-container-id-1 input.sk-toggleable__control:checked~label.sk-toggleable__label-arrow:before {content: \"▾\";}#sk-container-id-1 div.sk-estimator input.sk-toggleable__control:checked~label.sk-toggleable__label {background-color: #d4ebff;}#sk-container-id-1 div.sk-label input.sk-toggleable__control:checked~label.sk-toggleable__label {background-color: #d4ebff;}#sk-container-id-1 input.sk-hidden--visually {border: 0;clip: rect(1px 1px 1px 1px);clip: rect(1px, 1px, 1px, 1px);height: 1px;margin: -1px;overflow: hidden;padding: 0;position: absolute;width: 1px;}#sk-container-id-1 div.sk-estimator {font-family: monospace;background-color: #f0f8ff;border: 1px dotted black;border-radius: 0.25em;box-sizing: border-box;margin-bottom: 0.5em;}#sk-container-id-1 div.sk-estimator:hover {background-color: #d4ebff;}#sk-container-id-1 div.sk-parallel-item::after {content: \"\";width: 100%;border-bottom: 1px solid gray;flex-grow: 1;}#sk-container-id-1 div.sk-label:hover label.sk-toggleable__label {background-color: #d4ebff;}#sk-container-id-1 div.sk-serial::before {content: \"\";position: absolute;border-left: 1px solid gray;box-sizing: border-box;top: 0;bottom: 0;left: 50%;z-index: 0;}#sk-container-id-1 div.sk-serial {display: flex;flex-direction: column;align-items: center;background-color: white;padding-right: 0.2em;padding-left: 0.2em;position: relative;}#sk-container-id-1 div.sk-item {position: relative;z-index: 1;}#sk-container-id-1 div.sk-parallel {display: flex;align-items: stretch;justify-content: center;background-color: white;position: relative;}#sk-container-id-1 div.sk-item::before, #sk-container-id-1 div.sk-parallel-item::before {content: \"\";position: absolute;border-left: 1px solid gray;box-sizing: border-box;top: 0;bottom: 0;left: 50%;z-index: -1;}#sk-container-id-1 div.sk-parallel-item {display: flex;flex-direction: column;z-index: 1;position: relative;background-color: white;}#sk-container-id-1 div.sk-parallel-item:first-child::after {align-self: flex-end;width: 50%;}#sk-container-id-1 div.sk-parallel-item:last-child::after {align-self: flex-start;width: 50%;}#sk-container-id-1 div.sk-parallel-item:only-child::after {width: 0;}#sk-container-id-1 div.sk-dashed-wrapped {border: 1px dashed gray;margin: 0 0.4em 0.5em 0.4em;box-sizing: border-box;padding-bottom: 0.4em;background-color: white;}#sk-container-id-1 div.sk-label label {font-family: monospace;font-weight: bold;display: inline-block;line-height: 1.2em;}#sk-container-id-1 div.sk-label-container {text-align: center;}#sk-container-id-1 div.sk-container {/* jupyter's `normalize.less` sets `[hidden] { display: none; }` but bootstrap.min.css set `[hidden] { display: none !important; }` so we also need the `!important` here to be able to override the default hidden behavior on the sphinx rendered scikit-learn.org. See: https://github.com/scikit-learn/scikit-learn/issues/21755 */display: inline-block !important;position: relative;}#sk-container-id-1 div.sk-text-repr-fallback {display: none;}</style><div id=\"sk-container-id-1\" class=\"sk-top-container\"><div class=\"sk-text-repr-fallback\"><pre>LogisticRegression()</pre><b>In a Jupyter environment, please rerun this cell to show the HTML representation or trust the notebook. <br />On GitHub, the HTML representation is unable to render, please try loading this page with nbviewer.org.</b></div><div class=\"sk-container\" hidden><div class=\"sk-item\"><div class=\"sk-estimator sk-toggleable\"><input class=\"sk-toggleable__control sk-hidden--visually\" id=\"sk-estimator-id-1\" type=\"checkbox\" checked><label for=\"sk-estimator-id-1\" class=\"sk-toggleable__label sk-toggleable__label-arrow\">LogisticRegression</label><div class=\"sk-toggleable__content\"><pre>LogisticRegression()</pre></div></div></div></div></div>"
      ],
      "text/plain": [
       "LogisticRegression()"
      ]
     },
     "execution_count": 34,
     "metadata": {},
     "output_type": "execute_result"
    }
   ],
   "source": [
    "logi_cr.fit(cr_train_x,cr_train_y)"
   ]
  },
  {
   "cell_type": "code",
   "execution_count": 35,
   "id": "298cc2d7",
   "metadata": {},
   "outputs": [
    {
     "data": {
      "text/plain": [
       "array([1, 1, 1, 0, 1, 1, 1, 1, 1, 1, 1, 1, 1, 1, 1, 1, 1, 1, 1, 1, 1, 0,\n",
       "       0, 0, 1, 1, 0, 1, 1, 1, 1, 0, 1, 1, 0, 0, 1, 1, 0, 1, 1, 1, 0, 1,\n",
       "       1, 1, 1, 1, 1, 1, 1, 1, 1, 1, 1, 0, 1, 1, 0, 1, 1, 1, 1, 1, 0, 0,\n",
       "       1, 1, 1, 1, 1, 1, 1, 1, 1, 0, 0, 0, 1, 1, 1, 0, 0, 1, 1, 0, 1, 0,\n",
       "       1, 1, 1, 0, 1, 1, 1, 1, 1, 1, 1, 0, 1, 1, 1, 1, 1, 1, 1, 1, 1, 1,\n",
       "       1, 0, 1, 0, 1, 1, 1, 0, 1, 0, 0, 1, 1, 0, 1, 1, 1, 1, 0, 0, 1, 1,\n",
       "       1, 0, 1, 1, 1, 0, 0, 1, 1, 0, 0, 1, 0, 0, 1, 1, 0, 0, 1, 1, 1, 1,\n",
       "       0, 1, 1, 1, 1, 1, 0, 1, 1, 1, 1, 1, 0, 1, 1, 1, 0, 1, 1, 1, 1, 1,\n",
       "       1, 1, 1, 1, 1, 1, 1, 1, 0, 0, 1, 0, 1, 1, 0, 0, 1, 1, 1, 1, 1])"
      ]
     },
     "execution_count": 35,
     "metadata": {},
     "output_type": "execute_result"
    }
   ],
   "source": [
    "pred=logi_cr.predict(cr_test_x)\n",
    "pred"
   ]
  },
  {
   "cell_type": "code",
   "execution_count": 36,
   "id": "2266956c",
   "metadata": {},
   "outputs": [],
   "source": [
    "from sklearn.metrics import confusion_matrix"
   ]
  },
  {
   "cell_type": "code",
   "execution_count": 37,
   "id": "4cea0dfc",
   "metadata": {},
   "outputs": [],
   "source": [
    "cr_tab=confusion_matrix(cr_test_y,pred)"
   ]
  },
  {
   "cell_type": "code",
   "execution_count": 38,
   "id": "327075b5",
   "metadata": {},
   "outputs": [
    {
     "data": {
      "text/plain": [
       "array([[ 32,  25],\n",
       "       [ 17, 123]], dtype=int64)"
      ]
     },
     "execution_count": 38,
     "metadata": {},
     "output_type": "execute_result"
    }
   ],
   "source": [
    "cr_tab"
   ]
  },
  {
   "cell_type": "code",
   "execution_count": 39,
   "id": "b0b72475",
   "metadata": {},
   "outputs": [
    {
     "data": {
      "text/plain": [
       "78.68020304568527"
      ]
     },
     "execution_count": 39,
     "metadata": {},
     "output_type": "execute_result"
    }
   ],
   "source": [
    "#accuracy\n",
    "cr_tab.diagonal().sum()*100/cr_tab.sum()"
   ]
  },
  {
   "cell_type": "code",
   "execution_count": 40,
   "id": "25e8c944",
   "metadata": {},
   "outputs": [],
   "source": [
    "from sklearn.metrics import accuracy_score"
   ]
  },
  {
   "cell_type": "code",
   "execution_count": 43,
   "id": "b7353f7f",
   "metadata": {},
   "outputs": [
    {
     "data": {
      "text/plain": [
       "78.68020304568529"
      ]
     },
     "execution_count": 43,
     "metadata": {},
     "output_type": "execute_result"
    }
   ],
   "source": [
    "accuracy_score(cr_test_y,pred)*100\n"
   ]
  },
  {
   "cell_type": "code",
   "execution_count": 44,
   "id": "23f1905d",
   "metadata": {},
   "outputs": [],
   "source": [
    "#recall or tpr\n",
    "from sklearn.metrics import recall_score"
   ]
  },
  {
   "cell_type": "code",
   "execution_count": 45,
   "id": "3ff0be1e",
   "metadata": {},
   "outputs": [
    {
     "data": {
      "text/plain": [
       "87.85714285714286"
      ]
     },
     "execution_count": 45,
     "metadata": {},
     "output_type": "execute_result"
    }
   ],
   "source": [
    "recall_score(cr_test_y,pred)*100"
   ]
  },
  {
   "cell_type": "code",
   "execution_count": 46,
   "id": "a5ae6043",
   "metadata": {},
   "outputs": [],
   "source": [
    "#precision\n",
    "#tp/tp+fp"
   ]
  },
  {
   "cell_type": "code",
   "execution_count": 47,
   "id": "0f69abf3",
   "metadata": {},
   "outputs": [],
   "source": [
    "from sklearn.metrics import precision_score"
   ]
  },
  {
   "cell_type": "code",
   "execution_count": 48,
   "id": "6bb80a3c",
   "metadata": {},
   "outputs": [
    {
     "data": {
      "text/plain": [
       "83.1081081081081"
      ]
     },
     "execution_count": 48,
     "metadata": {},
     "output_type": "execute_result"
    }
   ],
   "source": [
    "precision_score(cr_test_y,pred)*100"
   ]
  },
  {
   "cell_type": "code",
   "execution_count": 49,
   "id": "5a7ebb1b",
   "metadata": {},
   "outputs": [],
   "source": [
    "#f1ratio"
   ]
  },
  {
   "cell_type": "code",
   "execution_count": 50,
   "id": "af36a1d6",
   "metadata": {},
   "outputs": [],
   "source": [
    "from sklearn.metrics import f1_score"
   ]
  },
  {
   "cell_type": "code",
   "execution_count": 51,
   "id": "e90ff350",
   "metadata": {},
   "outputs": [
    {
     "data": {
      "text/plain": [
       "85.41666666666666"
      ]
     },
     "execution_count": 51,
     "metadata": {},
     "output_type": "execute_result"
    }
   ],
   "source": [
    "f1_score(cr_test_y,pred)*100"
   ]
  },
  {
   "cell_type": "code",
   "execution_count": 52,
   "id": "101e59ba",
   "metadata": {},
   "outputs": [],
   "source": [
    "#auroc curve"
   ]
  },
  {
   "cell_type": "code",
   "execution_count": 53,
   "id": "fe5a817d",
   "metadata": {},
   "outputs": [],
   "source": [
    "from sklearn.metrics import roc_auc_score\n",
    "from sklearn.metrics import roc_curve"
   ]
  },
  {
   "cell_type": "code",
   "execution_count": 54,
   "id": "feba952c",
   "metadata": {},
   "outputs": [],
   "source": [
    "#convert pred value in probability"
   ]
  },
  {
   "cell_type": "code",
   "execution_count": 55,
   "id": "f7b60363",
   "metadata": {},
   "outputs": [
    {
     "data": {
      "text/plain": [
       "array([[0.08804892, 0.91195108],\n",
       "       [0.29067061, 0.70932939],\n",
       "       [0.12133629, 0.87866371],\n",
       "       [0.59761603, 0.40238397],\n",
       "       [0.25054734, 0.74945266],\n",
       "       [0.09571432, 0.90428568],\n",
       "       [0.24228175, 0.75771825],\n",
       "       [0.1241409 , 0.8758591 ],\n",
       "       [0.12609739, 0.87390261],\n",
       "       [0.17565501, 0.82434499],\n",
       "       [0.05466421, 0.94533579],\n",
       "       [0.25525025, 0.74474975],\n",
       "       [0.28287819, 0.71712181],\n",
       "       [0.12538701, 0.87461299],\n",
       "       [0.22201231, 0.77798769],\n",
       "       [0.10887775, 0.89112225],\n",
       "       [0.14757055, 0.85242945],\n",
       "       [0.24962857, 0.75037143],\n",
       "       [0.24036015, 0.75963985],\n",
       "       [0.09521775, 0.90478225],\n",
       "       [0.13768148, 0.86231852],\n",
       "       [0.66408434, 0.33591566],\n",
       "       [0.70768323, 0.29231677],\n",
       "       [0.78061534, 0.21938466],\n",
       "       [0.39677272, 0.60322728],\n",
       "       [0.13087752, 0.86912248],\n",
       "       [0.59729838, 0.40270162],\n",
       "       [0.18623958, 0.81376042],\n",
       "       [0.05005491, 0.94994509],\n",
       "       [0.17537083, 0.82462917],\n",
       "       [0.07451196, 0.92548804],\n",
       "       [0.5476183 , 0.4523817 ],\n",
       "       [0.12804109, 0.87195891],\n",
       "       [0.23527215, 0.76472785],\n",
       "       [0.678831  , 0.321169  ],\n",
       "       [0.53873681, 0.46126319],\n",
       "       [0.08569886, 0.91430114],\n",
       "       [0.18305016, 0.81694984],\n",
       "       [0.54030597, 0.45969403],\n",
       "       [0.26963362, 0.73036638],\n",
       "       [0.09521688, 0.90478312],\n",
       "       [0.20510153, 0.79489847],\n",
       "       [0.58265872, 0.41734128],\n",
       "       [0.09156711, 0.90843289],\n",
       "       [0.16769586, 0.83230414],\n",
       "       [0.17931611, 0.82068389],\n",
       "       [0.15707497, 0.84292503],\n",
       "       [0.1012837 , 0.8987163 ],\n",
       "       [0.14858896, 0.85141104],\n",
       "       [0.10375934, 0.89624066],\n",
       "       [0.15942181, 0.84057819],\n",
       "       [0.45262387, 0.54737613],\n",
       "       [0.25193209, 0.74806791],\n",
       "       [0.15097788, 0.84902212],\n",
       "       [0.21991138, 0.78008862],\n",
       "       [0.74770825, 0.25229175],\n",
       "       [0.10276905, 0.89723095],\n",
       "       [0.12415028, 0.87584972],\n",
       "       [0.63564295, 0.36435705],\n",
       "       [0.12651441, 0.87348559],\n",
       "       [0.18408428, 0.81591572],\n",
       "       [0.3080566 , 0.6919434 ],\n",
       "       [0.07686406, 0.92313594],\n",
       "       [0.08934645, 0.91065355],\n",
       "       [0.71353117, 0.28646883],\n",
       "       [0.68993141, 0.31006859],\n",
       "       [0.19849766, 0.80150234],\n",
       "       [0.24042769, 0.75957231],\n",
       "       [0.19081902, 0.80918098],\n",
       "       [0.16056469, 0.83943531],\n",
       "       [0.09277509, 0.90722491],\n",
       "       [0.12332611, 0.87667389],\n",
       "       [0.11089235, 0.88910765],\n",
       "       [0.13033042, 0.86966958],\n",
       "       [0.09810217, 0.90189783],\n",
       "       [0.57537985, 0.42462015],\n",
       "       [0.60168593, 0.39831407],\n",
       "       [0.73000643, 0.26999357],\n",
       "       [0.10603843, 0.89396157],\n",
       "       [0.10993433, 0.89006567],\n",
       "       [0.13229938, 0.86770062],\n",
       "       [0.5225425 , 0.4774575 ],\n",
       "       [0.77858097, 0.22141903],\n",
       "       [0.22622334, 0.77377666],\n",
       "       [0.12928853, 0.87071147],\n",
       "       [0.7179462 , 0.2820538 ],\n",
       "       [0.10412061, 0.89587939],\n",
       "       [0.64507893, 0.35492107],\n",
       "       [0.07441629, 0.92558371],\n",
       "       [0.23931021, 0.76068979],\n",
       "       [0.44585804, 0.55414196],\n",
       "       [0.54125929, 0.45874071],\n",
       "       [0.20544437, 0.79455563],\n",
       "       [0.10942495, 0.89057505],\n",
       "       [0.08722317, 0.91277683],\n",
       "       [0.10313543, 0.89686457],\n",
       "       [0.26357942, 0.73642058],\n",
       "       [0.29117997, 0.70882003],\n",
       "       [0.11515159, 0.88484841],\n",
       "       [0.63790309, 0.36209691],\n",
       "       [0.24778837, 0.75221163],\n",
       "       [0.1257272 , 0.8742728 ],\n",
       "       [0.08846804, 0.91153196],\n",
       "       [0.23298319, 0.76701681],\n",
       "       [0.11706903, 0.88293097],\n",
       "       [0.22022535, 0.77977465],\n",
       "       [0.16450274, 0.83549726],\n",
       "       [0.13613773, 0.86386227],\n",
       "       [0.19857677, 0.80142323],\n",
       "       [0.09895303, 0.90104697],\n",
       "       [0.28275779, 0.71724221],\n",
       "       [0.85059396, 0.14940604],\n",
       "       [0.17182883, 0.82817117],\n",
       "       [0.71979809, 0.28020191],\n",
       "       [0.12179541, 0.87820459],\n",
       "       [0.13101479, 0.86898521],\n",
       "       [0.12641275, 0.87358725],\n",
       "       [0.75559465, 0.24440535],\n",
       "       [0.23991439, 0.76008561],\n",
       "       [0.76871039, 0.23128961],\n",
       "       [0.57992183, 0.42007817],\n",
       "       [0.16015623, 0.83984377],\n",
       "       [0.25347579, 0.74652421],\n",
       "       [0.71340048, 0.28659952],\n",
       "       [0.06436042, 0.93563958],\n",
       "       [0.13117361, 0.86882639],\n",
       "       [0.06855996, 0.93144004],\n",
       "       [0.11941084, 0.88058916],\n",
       "       [0.91214207, 0.08785793],\n",
       "       [0.62494221, 0.37505779],\n",
       "       [0.18522916, 0.81477084],\n",
       "       [0.29570598, 0.70429402],\n",
       "       [0.12824356, 0.87175644],\n",
       "       [0.63404118, 0.36595882],\n",
       "       [0.18509898, 0.81490102],\n",
       "       [0.1188944 , 0.8811056 ],\n",
       "       [0.16651196, 0.83348804],\n",
       "       [0.72249017, 0.27750983],\n",
       "       [0.68478157, 0.31521843],\n",
       "       [0.23084442, 0.76915558],\n",
       "       [0.24351962, 0.75648038],\n",
       "       [0.77403643, 0.22596357],\n",
       "       [0.65463723, 0.34536277],\n",
       "       [0.22579334, 0.77420666],\n",
       "       [0.69698552, 0.30301448],\n",
       "       [0.64453284, 0.35546716],\n",
       "       [0.27856508, 0.72143492],\n",
       "       [0.04565149, 0.95434851],\n",
       "       [0.54444699, 0.45555301],\n",
       "       [0.67346302, 0.32653698],\n",
       "       [0.10297353, 0.89702647],\n",
       "       [0.35308228, 0.64691772],\n",
       "       [0.10129628, 0.89870372],\n",
       "       [0.10207141, 0.89792859],\n",
       "       [0.8246667 , 0.1753333 ],\n",
       "       [0.11966549, 0.88033451],\n",
       "       [0.26584791, 0.73415209],\n",
       "       [0.18364703, 0.81635297],\n",
       "       [0.10466073, 0.89533927],\n",
       "       [0.06270972, 0.93729028],\n",
       "       [0.64050421, 0.35949579],\n",
       "       [0.22862165, 0.77137835],\n",
       "       [0.12066557, 0.87933443],\n",
       "       [0.30071471, 0.69928529],\n",
       "       [0.19537772, 0.80462228],\n",
       "       [0.15477495, 0.84522505],\n",
       "       [0.58921462, 0.41078538],\n",
       "       [0.2076155 , 0.7923845 ],\n",
       "       [0.21472303, 0.78527697],\n",
       "       [0.14074961, 0.85925039],\n",
       "       [0.6978491 , 0.3021509 ],\n",
       "       [0.19459374, 0.80540626],\n",
       "       [0.28485542, 0.71514458],\n",
       "       [0.17756691, 0.82243309],\n",
       "       [0.15840371, 0.84159629],\n",
       "       [0.12085099, 0.87914901],\n",
       "       [0.14249132, 0.85750868],\n",
       "       [0.07396414, 0.92603586],\n",
       "       [0.21385762, 0.78614238],\n",
       "       [0.18540545, 0.81459455],\n",
       "       [0.1772152 , 0.8227848 ],\n",
       "       [0.13196044, 0.86803956],\n",
       "       [0.09203942, 0.90796058],\n",
       "       [0.19221212, 0.80778788],\n",
       "       [0.7366595 , 0.2633405 ],\n",
       "       [0.67381532, 0.32618468],\n",
       "       [0.04527973, 0.95472027],\n",
       "       [0.5316997 , 0.4683003 ],\n",
       "       [0.19308938, 0.80691062],\n",
       "       [0.09285289, 0.90714711],\n",
       "       [0.78757599, 0.21242401],\n",
       "       [0.64321185, 0.35678815],\n",
       "       [0.12806607, 0.87193393],\n",
       "       [0.44112934, 0.55887066],\n",
       "       [0.10659148, 0.89340852],\n",
       "       [0.14174102, 0.85825898],\n",
       "       [0.07351125, 0.92648875]])"
      ]
     },
     "execution_count": 55,
     "metadata": {},
     "output_type": "execute_result"
    }
   ],
   "source": [
    "pred_proba=logi_cr.predict_proba(cr_test_x)\n",
    "pred_proba"
   ]
  },
  {
   "cell_type": "code",
   "execution_count": 56,
   "id": "ffd157a7",
   "metadata": {},
   "outputs": [
    {
     "data": {
      "text/plain": [
       "array([1, 1, 1, 0, 1, 1, 1, 1, 1, 1, 1, 1, 1, 1, 1, 1, 1, 1, 1, 1, 1, 0,\n",
       "       0, 0, 1, 1, 0, 1, 1, 1, 1, 0, 1, 1, 0, 0, 1, 1, 0, 1, 1, 1, 0, 1,\n",
       "       1, 1, 1, 1, 1, 1, 1, 1, 1, 1, 1, 0, 1, 1, 0, 1, 1, 1, 1, 1, 0, 0,\n",
       "       1, 1, 1, 1, 1, 1, 1, 1, 1, 0, 0, 0, 1, 1, 1, 0, 0, 1, 1, 0, 1, 0,\n",
       "       1, 1, 1, 0, 1, 1, 1, 1, 1, 1, 1, 0, 1, 1, 1, 1, 1, 1, 1, 1, 1, 1,\n",
       "       1, 0, 1, 0, 1, 1, 1, 0, 1, 0, 0, 1, 1, 0, 1, 1, 1, 1, 0, 0, 1, 1,\n",
       "       1, 0, 1, 1, 1, 0, 0, 1, 1, 0, 0, 1, 0, 0, 1, 1, 0, 0, 1, 1, 1, 1,\n",
       "       0, 1, 1, 1, 1, 1, 0, 1, 1, 1, 1, 1, 0, 1, 1, 1, 0, 1, 1, 1, 1, 1,\n",
       "       1, 1, 1, 1, 1, 1, 1, 1, 0, 0, 1, 0, 1, 1, 0, 0, 1, 1, 1, 1, 1])"
      ]
     },
     "execution_count": 56,
     "metadata": {},
     "output_type": "execute_result"
    }
   ],
   "source": [
    "pred_q=logi_cr.predict(cr_test_x)\n",
    "pred_q"
   ]
  },
  {
   "cell_type": "code",
   "execution_count": 57,
   "id": "0a3f41b1",
   "metadata": {},
   "outputs": [
    {
     "data": {
      "text/plain": [
       "0.7199874686716792"
      ]
     },
     "execution_count": 57,
     "metadata": {},
     "output_type": "execute_result"
    }
   ],
   "source": [
    "roc_auc_score(cr_test_y,pred_q)"
   ]
  },
  {
   "cell_type": "code",
   "execution_count": 58,
   "id": "dc8d2339",
   "metadata": {},
   "outputs": [
    {
     "data": {
      "text/plain": [
       "array([0.91195108, 0.70932939, 0.87866371, 0.40238397, 0.74945266,\n",
       "       0.90428568, 0.75771825, 0.8758591 , 0.87390261, 0.82434499,\n",
       "       0.94533579, 0.74474975, 0.71712181, 0.87461299, 0.77798769,\n",
       "       0.89112225, 0.85242945, 0.75037143, 0.75963985, 0.90478225,\n",
       "       0.86231852, 0.33591566, 0.29231677, 0.21938466, 0.60322728,\n",
       "       0.86912248, 0.40270162, 0.81376042, 0.94994509, 0.82462917,\n",
       "       0.92548804, 0.4523817 , 0.87195891, 0.76472785, 0.321169  ,\n",
       "       0.46126319, 0.91430114, 0.81694984, 0.45969403, 0.73036638,\n",
       "       0.90478312, 0.79489847, 0.41734128, 0.90843289, 0.83230414,\n",
       "       0.82068389, 0.84292503, 0.8987163 , 0.85141104, 0.89624066,\n",
       "       0.84057819, 0.54737613, 0.74806791, 0.84902212, 0.78008862,\n",
       "       0.25229175, 0.89723095, 0.87584972, 0.36435705, 0.87348559,\n",
       "       0.81591572, 0.6919434 , 0.92313594, 0.91065355, 0.28646883,\n",
       "       0.31006859, 0.80150234, 0.75957231, 0.80918098, 0.83943531,\n",
       "       0.90722491, 0.87667389, 0.88910765, 0.86966958, 0.90189783,\n",
       "       0.42462015, 0.39831407, 0.26999357, 0.89396157, 0.89006567,\n",
       "       0.86770062, 0.4774575 , 0.22141903, 0.77377666, 0.87071147,\n",
       "       0.2820538 , 0.89587939, 0.35492107, 0.92558371, 0.76068979,\n",
       "       0.55414196, 0.45874071, 0.79455563, 0.89057505, 0.91277683,\n",
       "       0.89686457, 0.73642058, 0.70882003, 0.88484841, 0.36209691,\n",
       "       0.75221163, 0.8742728 , 0.91153196, 0.76701681, 0.88293097,\n",
       "       0.77977465, 0.83549726, 0.86386227, 0.80142323, 0.90104697,\n",
       "       0.71724221, 0.14940604, 0.82817117, 0.28020191, 0.87820459,\n",
       "       0.86898521, 0.87358725, 0.24440535, 0.76008561, 0.23128961,\n",
       "       0.42007817, 0.83984377, 0.74652421, 0.28659952, 0.93563958,\n",
       "       0.86882639, 0.93144004, 0.88058916, 0.08785793, 0.37505779,\n",
       "       0.81477084, 0.70429402, 0.87175644, 0.36595882, 0.81490102,\n",
       "       0.8811056 , 0.83348804, 0.27750983, 0.31521843, 0.76915558,\n",
       "       0.75648038, 0.22596357, 0.34536277, 0.77420666, 0.30301448,\n",
       "       0.35546716, 0.72143492, 0.95434851, 0.45555301, 0.32653698,\n",
       "       0.89702647, 0.64691772, 0.89870372, 0.89792859, 0.1753333 ,\n",
       "       0.88033451, 0.73415209, 0.81635297, 0.89533927, 0.93729028,\n",
       "       0.35949579, 0.77137835, 0.87933443, 0.69928529, 0.80462228,\n",
       "       0.84522505, 0.41078538, 0.7923845 , 0.78527697, 0.85925039,\n",
       "       0.3021509 , 0.80540626, 0.71514458, 0.82243309, 0.84159629,\n",
       "       0.87914901, 0.85750868, 0.92603586, 0.78614238, 0.81459455,\n",
       "       0.8227848 , 0.86803956, 0.90796058, 0.80778788, 0.2633405 ,\n",
       "       0.32618468, 0.95472027, 0.4683003 , 0.80691062, 0.90714711,\n",
       "       0.21242401, 0.35678815, 0.87193393, 0.55887066, 0.89340852,\n",
       "       0.85825898, 0.92648875])"
      ]
     },
     "execution_count": 58,
     "metadata": {},
     "output_type": "execute_result"
    }
   ],
   "source": [
    "pred_proba[:,1]"
   ]
  },
  {
   "cell_type": "code",
   "execution_count": 59,
   "id": "23396447",
   "metadata": {},
   "outputs": [],
   "source": [
    "fpr,tpr,ther=roc_curve(cr_test_y,pred_proba[:,1])"
   ]
  },
  {
   "cell_type": "code",
   "execution_count": 60,
   "id": "83cc9d91",
   "metadata": {},
   "outputs": [],
   "source": [
    "import matplotlib.pyplot as plt"
   ]
  },
  {
   "cell_type": "code",
   "execution_count": 61,
   "id": "2ee10402",
   "metadata": {},
   "outputs": [
    {
     "data": {
      "text/plain": [
       "[<matplotlib.lines.Line2D at 0x25bbaa64410>]"
      ]
     },
     "execution_count": 61,
     "metadata": {},
     "output_type": "execute_result"
    },
    {
     "data": {
      "image/png": "[encoded data removed]",
      "text/plain": [
       "<Figure size 640x480 with 1 Axes>"
      ]
     },
     "metadata": {},
     "output_type": "display_data"
    }
   ],
   "source": [
    "plt.plot(fpr,tpr)"
   ]
  },
  {
   "cell_type": "code",
   "execution_count": 62,
   "id": "abcab545",
   "metadata": {},
   "outputs": [
    {
     "data": {
      "image/png": "[encoded data removed]",
      "text/plain": [
       "<Figure size 640x480 with 1 Axes>"
      ]
     },
     "metadata": {},
     "output_type": "display_data"
    }
   ],
   "source": [
    "plt.plot(fpr,tpr,color='r')\n",
    "plt.xlabel('fpr')\n",
    "plt.ylabel('tpr')\n",
    "plt.title('auroc curve on credit risk')\n",
    "plt.grid()\n"
   ]
  },
  {
   "cell_type": "code",
   "execution_count": null,
   "id": "21ec1fc8",
   "metadata": {},
   "outputs": [],
   "source": []
  },
  {
   "cell_type": "code",
   "execution_count": null,
   "id": "043717e5",
   "metadata": {},
   "outputs": [],
   "source": []
  },
  {
   "cell_type": "code",
   "execution_count": null,
   "id": "cfb46cb9",
   "metadata": {},
   "outputs": [],
   "source": []
  },
  {
   "cell_type": "code",
   "execution_count": null,
   "id": "4b011f32",
   "metadata": {},
   "outputs": [],
   "source": []
  },
  {
   "cell_type": "code",
   "execution_count": null,
   "id": "13adb4f3",
   "metadata": {},
   "outputs": [],
   "source": []
  }
 ],
 "metadata": {
  "kernelspec": {
   "display_name": "Python 3 (ipykernel)",
   "language": "python",
   "name": "python3"
  },
  "language_info": {
   "codemirror_mode": {
    "name": "ipython",
    "version": 3
   },
   "file_extension": ".py",
   "mimetype": "text/x-python",
   "name": "python",
   "nbconvert_exporter": "python",
   "pygments_lexer": "ipython3",
   "version": "3.11.3"
  }
 },
 "nbformat": 4,
 "nbformat_minor": 5
}
